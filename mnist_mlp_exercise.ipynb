{
 "cells": [
  {
   "cell_type": "markdown",
   "metadata": {},
   "source": [
    "# Multi-Layer Perceptron, MNIST\n",
    "---\n",
    "In this notebook, we will train an MLP to classify images from the [MNIST database](http://yann.lecun.com/exdb/mnist/) hand-written digit database.\n",
    "\n",
    "The process will be broken down into the following steps:\n",
    ">1. Load and visualize the data\n",
    "2. Define a neural network\n",
    "3. Train the model\n",
    "4. Evaluate the performance of our trained model on a test dataset!\n",
    "\n",
    "Before we begin, we have to import the necessary libraries for working with data and PyTorch."
   ]
  },
  {
   "cell_type": "code",
   "execution_count": 85,
   "metadata": {},
   "outputs": [
    {
     "name": "stdout",
     "output_type": "stream",
     "text": [
      "True\n",
      "Using device: cuda\n"
     ]
    }
   ],
   "source": [
    "# import libraries\n",
    "import torch\n",
    "import numpy as np\n",
    "\n",
    "print(torch.cuda.is_available())\n",
    "device = torch.device(\"cuda\" if torch.cuda.is_available() else \"cpu\")\n",
    "print(f'Using device: {device}')"
   ]
  },
  {
   "cell_type": "markdown",
   "metadata": {},
   "source": [
    "---\n",
    "## Load and Visualize the [Data](http://pytorch.org/docs/stable/torchvision/datasets.html)\n",
    "\n",
    "Downloading may take a few moments, and you should see your progress as the data is loading. You may also choose to change the `batch_size` if you want to load more data at a time.\n",
    "\n",
    "This cell will create DataLoaders for each of our datasets."
   ]
  },
  {
   "cell_type": "code",
   "execution_count": 86,
   "metadata": {},
   "outputs": [],
   "source": [
    "\n",
    "from torch.utils.data import Dataset, DataLoader\n",
    "\n",
    "# from torchvision import datasets\n",
    "import torchvision.transforms as transforms\n",
    "import scipy\n",
    "\n",
    "EXP_CONFIG = 0 # 0,1\n",
    "# how many samples per batch to load\n",
    "BATCH_SIZE = 20\n",
    "\n",
    "# convert data to torch.FloatTensor\n",
    "transform = transforms.ToTensor()\n",
    "\n",
    "class CustomTrainImageDataset(Dataset):\n",
    "\n",
    "    mat_data_file = \"./digits4000.mat\"\n",
    "\n",
    "    def __init__(self, config: int = EXP_CONFIG):\n",
    "        data_matrix = scipy.io.loadmat(self.mat_data_file)\n",
    "        self.config = config\n",
    "        self.img_labels:np.ndarray = data_matrix.get(\"digits_labels\")\n",
    "        self.img_vectors:np.ndarray = data_matrix.get(\"digits_vec\")\n",
    "        self.trainset:np.ndarray = data_matrix.get(\"trainset\")\n",
    "        self.testset:np.ndarray = data_matrix.get(\"testset\")\n",
    "\n",
    "        self.transform = transform\n",
    "\n",
    "    def __len__(self):\n",
    "        return len(self.trainset[EXP_CONFIG])\n",
    "\n",
    "    def __getitem__(self, idx):\n",
    "        if self.config == 0:\n",
    "            image_id = self.trainset[0, idx] - 1\n",
    "        elif self.config == 1:\n",
    "            image_id = self.trainset[1, idx] - 1\n",
    "        \n",
    "        label = self.img_labels[0, image_id]\n",
    "        image = self.img_vectors[:, image_id].reshape((28, 28))\n",
    "\n",
    "        if self.transform:\n",
    "            image = self.transform(image)\n",
    "        return image, label\n",
    "    \n",
    "class CustomTestImageDataset(Dataset):\n",
    "\n",
    "    mat_data_file = \"./digits4000.mat\"\n",
    "\n",
    "    def __init__(self, config: int = EXP_CONFIG):\n",
    "        data_matrix = scipy.io.loadmat(self.mat_data_file)\n",
    "        self.config = config\n",
    "        self.img_labels:np.ndarray = data_matrix.get(\"digits_labels\")\n",
    "        self.img_vectors:np.ndarray = data_matrix.get(\"digits_vec\")\n",
    "        self.trainset:np.ndarray = data_matrix.get(\"trainset\")\n",
    "        self.testset:np.ndarray = data_matrix.get(\"testset\")\n",
    "\n",
    "        self.transform = transform\n",
    "\n",
    "    def __len__(self):\n",
    "        return len(self.testset[EXP_CONFIG])\n",
    "\n",
    "    def __getitem__(self, idx):\n",
    "        if self.config == 0:\n",
    "            image_id = self.testset[0, idx] - 1\n",
    "        elif self.config == 1:\n",
    "            image_id = self.testset[1, idx] - 1\n",
    "        \n",
    "        label = self.img_labels[0, image_id]\n",
    "        image = self.img_vectors[:, image_id].reshape((28, 28))\n",
    "\n",
    "        if self.transform:\n",
    "            image = self.transform(image)\n",
    "        return image, label\n",
    "\n"
   ]
  },
  {
   "cell_type": "markdown",
   "metadata": {},
   "source": [
    "### Visualize a Batch of Training Data\n",
    "\n",
    "The first step in a classification task is to take a look at the data, make sure it is loaded in correctly, then make any initial observations about patterns in that data."
   ]
  },
  {
   "cell_type": "code",
   "execution_count": 87,
   "metadata": {},
   "outputs": [],
   "source": [
    "import matplotlib.pyplot as plt\n",
    "%matplotlib inline\n",
    "\n",
    "def visualize_training_data(train_dataloader: DataLoader):\n",
    "    # obtain one batch of training images\n",
    "    images, labels = next(iter(train_dataloader))\n",
    "    images = images.numpy()\n",
    "\n",
    "    # plot the images in the batch, along with the corresponding labels\n",
    "    fig = plt.figure(figsize=(25, 4))\n",
    "    for idx in np.arange(BATCH_SIZE):\n",
    "        ax = fig.add_subplot(2, int(20/2), idx+1, xticks=[], yticks=[])\n",
    "        ax.imshow(np.squeeze(images[idx]), cmap='gray')\n",
    "        # print out the correct label for each image\n",
    "        # .item() gets the value contained in a Tensor\n",
    "        ax.set_title(str(labels[idx].item()))\n",
    "    \n",
    "    img = np.squeeze(images[1])\n",
    "    fig = plt.figure(figsize = (12,12)) \n",
    "    ax = fig.add_subplot(111)\n",
    "    ax.imshow(img, cmap='gray')\n",
    "    width, height = img.shape\n",
    "    thresh = img.max()/2.5\n",
    "    for x in range(width):\n",
    "        for y in range(height):\n",
    "            val = round(img[x][y],2) if img[x][y] !=0 else 0\n",
    "            ax.annotate(str(val), xy=(y,x),\n",
    "                        horizontalalignment='center',\n",
    "                        verticalalignment='center',\n",
    "                        color='white' if img[x][y]<thresh else 'black')"
   ]
  },
  {
   "cell_type": "markdown",
   "metadata": {},
   "source": [
    "---\n",
    "## Define the Network [Architecture](http://pytorch.org/docs/stable/nn.html)\n",
    "\n",
    "The architecture will be responsible for seeing as input a 784-dim Tensor of pixel values for each image, and producing a Tensor of length 10 (our number of classes) that indicates the class scores for an input image. This particular example uses two hidden layers and dropout to avoid overfitting."
   ]
  },
  {
   "cell_type": "code",
   "execution_count": 88,
   "metadata": {},
   "outputs": [
    {
     "name": "stdout",
     "output_type": "stream",
     "text": [
      "Net(\n",
      "  (fc1): Linear(in_features=784, out_features=512, bias=True)\n",
      "  (fc2): Linear(in_features=512, out_features=512, bias=True)\n",
      "  (fc3): Linear(in_features=512, out_features=10, bias=True)\n",
      "  (dropout): Dropout(p=0.2, inplace=False)\n",
      ")\n"
     ]
    },
    {
     "data": {
      "text/plain": [
       "Net(\n",
       "  (fc1): Linear(in_features=784, out_features=512, bias=True)\n",
       "  (fc2): Linear(in_features=512, out_features=512, bias=True)\n",
       "  (fc3): Linear(in_features=512, out_features=10, bias=True)\n",
       "  (dropout): Dropout(p=0.2, inplace=False)\n",
       ")"
      ]
     },
     "execution_count": 88,
     "metadata": {},
     "output_type": "execute_result"
    }
   ],
   "source": [
    "import torch.nn as nn\n",
    "import torch.nn.functional as F\n",
    "\n",
    "## Define the NN architecture\n",
    "class Net(nn.Module):\n",
    "    def __init__(self):\n",
    "        super(Net, self).__init__()\n",
    "        self.fc1 = nn.Linear(28 * 28, 512)\n",
    "        # linear layer (n_hidden -> hidden_2)\n",
    "        self.fc2 = nn.Linear(512, 512)\n",
    "        # linear layer (n_hidden -> 10)\n",
    "        self.fc3 = nn.Linear(512, 10)\n",
    "        # dropout layer (p=0.2)\n",
    "        # dropout prevents overfitting of data\n",
    "        self.dropout = nn.Dropout(0.2)\n",
    "\n",
    "    def forward(self, x):\n",
    "        # flatten image input\n",
    "        x = x.view(-1, 28 * 28)\n",
    "        # add hidden layer, with relu activation function\n",
    "        x = F.relu(self.fc1(x))\n",
    "        return x\n",
    "\n",
    "# initialize the NN\n",
    "model = Net()\n",
    "print(model)\n",
    "model.to(device)"
   ]
  },
  {
   "cell_type": "markdown",
   "metadata": {},
   "source": [
    "###  Specify [Loss Function](http://pytorch.org/docs/stable/nn.html#loss-functions) and [Optimizer](http://pytorch.org/docs/stable/optim.html)\n",
    "\n",
    "It's recommended that you use cross-entropy loss for classification. If you look at the documentation (linked above), you can see that PyTorch's cross entropy function applies a softmax funtion to the output layer *and* then calculates the log loss."
   ]
  },
  {
   "cell_type": "code",
   "execution_count": 89,
   "metadata": {},
   "outputs": [],
   "source": [
    "## Specify loss and optimization functions\n",
    "\n",
    "# specify loss function\n",
    "criterion = nn.CrossEntropyLoss()\n",
    "\n",
    "# specify optimizer\n",
    "optimizer = torch.optim.SGD(model.parameters(), lr=0.01)"
   ]
  },
  {
   "cell_type": "markdown",
   "metadata": {},
   "source": [
    "---\n",
    "## Train the Network\n",
    "\n",
    "The steps for training/learning from a batch of data are described in the comments below:\n",
    "1. Clear the gradients of all optimized variables\n",
    "2. Forward pass: compute predicted outputs by passing inputs to the model\n",
    "3. Calculate the loss\n",
    "4. Backward pass: compute gradient of the loss with respect to model parameters\n",
    "5. Perform a single optimization step (parameter update)\n",
    "6. Update average training loss\n",
    "\n",
    "The following loop trains for 30 epochs; feel free to change this number. For now, we suggest somewhere between 20-50 epochs. As you train, take a look at how the values for the training loss decrease over time. We want it to decrease while also avoiding overfitting the training data. "
   ]
  },
  {
   "cell_type": "code",
   "execution_count": 90,
   "metadata": {},
   "outputs": [],
   "source": [
    "# number of epochs to train the model\n",
    "n_epochs = 30  # suggest training between 20-50 epochs\n",
    "\n",
    "def train(train_dataloader: DataLoader):\n",
    "    model.train() # prep model for training\n",
    "\n",
    "    for epoch in range(n_epochs):\n",
    "        # monitor training loss\n",
    "        train_loss = 0.0\n",
    "        \n",
    "        ###################\n",
    "        # train the model #\n",
    "        ###################\n",
    "        for data, target in train_dataloader:\n",
    "            data, target = data.to(device), target.to(device)\n",
    "            # clear the gradients of all optimized variables\n",
    "            optimizer.zero_grad()\n",
    "            # forward pass: compute predicted outputs by passing inputs to the model\n",
    "            output = model(data)\n",
    "            # calculate the loss\n",
    "            loss = criterion(output, target)\n",
    "            # backward pass: compute gradient of the loss with respect to model parameters\n",
    "            loss.backward()\n",
    "            # perform a single optimization step (parameter update)\n",
    "            optimizer.step()\n",
    "            # update running training loss\n",
    "            train_loss += loss.item()*data.size(0)\n",
    "            \n",
    "        # print training statistics \n",
    "        # calculate average loss over an epoch\n",
    "        train_loss = train_loss/len(train_dataloader.dataset)\n",
    "\n",
    "        print('Epoch: {} \\tTraining Loss: {:.6f}'.format(\n",
    "            epoch+1, \n",
    "            train_loss\n",
    "            ))"
   ]
  },
  {
   "cell_type": "markdown",
   "metadata": {},
   "source": [
    "---\n",
    "## Test the Trained Network\n",
    "\n",
    "Finally, we test our best model on previously unseen **test data** and evaluate it's performance. Testing on unseen data is a good way to check that our model generalizes well. It may also be useful to be granular in this analysis and take a look at how this model performs on each class as well as looking at its overall loss and accuracy.\n",
    "\n",
    "#### `model.eval()`\n",
    "\n",
    "`model.eval(`) will set all the layers in your model to evaluation mode. This affects layers like dropout layers that turn \"off\" nodes during training with some probability, but should allow every node to be \"on\" for evaluation!"
   ]
  },
  {
   "cell_type": "code",
   "execution_count": 91,
   "metadata": {},
   "outputs": [],
   "source": [
    "# initialize lists to monitor test loss and accuracy\n",
    "\n",
    "\n",
    "def eval(test_dataloader: DataLoader):\n",
    "    test_loss = 0.0\n",
    "    class_correct = list(0. for i in range(10))\n",
    "    class_total = list(0. for i in range(10))\n",
    "    model.eval() # prep model for *evaluation*\n",
    "\n",
    "    for data, target in test_dataloader:\n",
    "        data, target = data.to(device), target.to(device)\n",
    "        # forward pass: compute predicted outputs by passing inputs to the model\n",
    "        output = model(data)\n",
    "        # calculate the loss\n",
    "        loss = criterion(output, target)\n",
    "        # update test loss \n",
    "        test_loss += loss.item()*data.size(0)\n",
    "        # convert output probabilities to predicted class\n",
    "        _, pred = torch.max(output, 1)\n",
    "        # compare predictions to true label\n",
    "        correct = np.squeeze(pred.eq(target.data.view_as(pred)))\n",
    "        # calculate test accuracy for each object class\n",
    "        for i in range(BATCH_SIZE):\n",
    "            label = target.data[i]\n",
    "            class_correct[label] += correct[i].item()\n",
    "            class_total[label] += 1\n",
    "\n",
    "    # calculate and print avg test loss\n",
    "    test_loss = test_loss/len(test_dataloader.dataset)\n",
    "    print('Test Loss: {:.6f}\\n'.format(test_loss))\n",
    "\n",
    "    for i in range(10):\n",
    "        if class_total[i] > 0:\n",
    "            print('Test Accuracy of %5s: %2d%% (%2d/%2d)' % (\n",
    "                str(i), 100 * class_correct[i] / class_total[i],\n",
    "                np.sum(class_correct[i]), np.sum(class_total[i])))\n",
    "        else:\n",
    "            print('Test Accuracy of %5s: N/A (no training examples)' % (classes[i]))\n",
    "\n",
    "    print('\\nTest Accuracy (Overall): %2d%% (%2d/%2d)' % (\n",
    "        100. * np.sum(class_correct) / np.sum(class_total),\n",
    "        np.sum(class_correct), np.sum(class_total)))"
   ]
  },
  {
   "cell_type": "markdown",
   "metadata": {},
   "source": [
    "### Visualize Sample Test Results\n",
    "\n",
    "This cell displays test images and their labels in this format: `predicted (ground-truth)`. The text will be green for accurately classified examples and red for incorrect predictions."
   ]
  },
  {
   "cell_type": "code",
   "execution_count": 92,
   "metadata": {},
   "outputs": [],
   "source": [
    "def visualize_results(test_dataloader: DataLoader):\n",
    "    # obtain one batch of test images\n",
    "    images, labels = next(iter(test_dataloader))\n",
    "    images = images.to(device)\n",
    "\n",
    "    # get sample outputs\n",
    "    output = model(images)\n",
    "    output.cpu()\n",
    "    # convert output probabilities to predicted class\n",
    "    _, preds = torch.max(output, 1)\n",
    "    # prep images for display\n",
    "    images = images.cpu().numpy()\n",
    "\n",
    "    # plot the images in the batch, along with predicted and true labels\n",
    "    fig = plt.figure(figsize=(25, 4))\n",
    "    for idx in np.arange(BATCH_SIZE):\n",
    "        ax = fig.add_subplot(2, int(20/2), idx+1, xticks=[], yticks=[])\n",
    "        ax.imshow(np.squeeze(images[idx]), cmap='gray')\n",
    "        ax.set_title(\"{} ({})\".format(str(preds[idx].item()), str(labels[idx].item())),\n",
    "                    color=(\"green\" if preds[idx]==labels[idx] else \"red\"))"
   ]
  },
  {
   "cell_type": "markdown",
   "metadata": {},
   "source": [
    "## Results"
   ]
  },
  {
   "cell_type": "markdown",
   "metadata": {},
   "source": [
    "### CONFIG 0"
   ]
  },
  {
   "cell_type": "code",
   "execution_count": 93,
   "metadata": {},
   "outputs": [
    {
     "name": "stdout",
     "output_type": "stream",
     "text": [
      "Epoch: 1 \tTraining Loss: 4.657967\n",
      "Epoch: 2 \tTraining Loss: 2.162078\n",
      "Epoch: 3 \tTraining Loss: 1.385794\n",
      "Epoch: 4 \tTraining Loss: 1.082888\n",
      "Epoch: 5 \tTraining Loss: 0.920236\n",
      "Epoch: 6 \tTraining Loss: 0.817735\n",
      "Epoch: 7 \tTraining Loss: 0.745772\n",
      "Epoch: 8 \tTraining Loss: 0.691411\n",
      "Epoch: 9 \tTraining Loss: 0.649415\n",
      "Epoch: 10 \tTraining Loss: 0.615073\n",
      "Epoch: 11 \tTraining Loss: 0.586672\n",
      "Epoch: 12 \tTraining Loss: 0.561962\n",
      "Epoch: 13 \tTraining Loss: 0.541428\n",
      "Epoch: 14 \tTraining Loss: 0.523375\n",
      "Epoch: 15 \tTraining Loss: 0.507531\n",
      "Epoch: 16 \tTraining Loss: 0.492464\n",
      "Epoch: 17 \tTraining Loss: 0.480167\n",
      "Epoch: 18 \tTraining Loss: 0.468489\n",
      "Epoch: 19 \tTraining Loss: 0.457949\n",
      "Epoch: 20 \tTraining Loss: 0.448056\n",
      "Epoch: 21 \tTraining Loss: 0.438915\n",
      "Epoch: 22 \tTraining Loss: 0.430754\n",
      "Epoch: 23 \tTraining Loss: 0.422945\n",
      "Epoch: 24 \tTraining Loss: 0.415425\n",
      "Epoch: 25 \tTraining Loss: 0.408936\n",
      "Epoch: 26 \tTraining Loss: 0.402475\n",
      "Epoch: 27 \tTraining Loss: 0.396639\n",
      "Epoch: 28 \tTraining Loss: 0.390908\n",
      "Epoch: 29 \tTraining Loss: 0.385543\n",
      "Epoch: 30 \tTraining Loss: 0.380531\n",
      "Test Loss: 0.438000\n",
      "\n",
      "Test Accuracy of     0: 97% (194/200)\n",
      "Test Accuracy of     1: 95% (191/200)\n",
      "Test Accuracy of     2: 85% (170/200)\n",
      "Test Accuracy of     3: 86% (172/200)\n",
      "Test Accuracy of     4: 93% (186/200)\n",
      "Test Accuracy of     5: 77% (155/200)\n",
      "Test Accuracy of     6: 90% (181/200)\n",
      "Test Accuracy of     7: 91% (182/200)\n",
      "Test Accuracy of     8: 83% (167/200)\n",
      "Test Accuracy of     9: 86% (173/200)\n",
      "\n",
      "Test Accuracy (Overall): 88% (1771/2000)\n"
     ]
    },
    {
     "data": {
      "image/png": "[encoded data removed]",
      "text/plain": [
       "<Figure size 2500x400 with 20 Axes>"
      ]
     },
     "metadata": {},
     "output_type": "display_data"
    }
   ],
   "source": [
    "# prepare datasets\n",
    "train_dataset = CustomTrainImageDataset(config=0)\n",
    "test_dateset = CustomTestImageDataset(config=0)\n",
    "\n",
    "# prepare data loaders\n",
    "train_dataloader = DataLoader(train_dataset, batch_size=BATCH_SIZE, shuffle=True)\n",
    "test_dataloader = DataLoader(test_dateset, batch_size=BATCH_SIZE, shuffle=True)\n",
    "\n",
    "train(train_dataloader)\n",
    "eval(test_dataloader)\n",
    "visualize_results(test_dataloader)"
   ]
  },
  {
   "cell_type": "markdown",
   "metadata": {},
   "source": [
    "### CONFIG 1"
   ]
  },
  {
   "cell_type": "code",
   "execution_count": 94,
   "metadata": {},
   "outputs": [
    {
     "name": "stdout",
     "output_type": "stream",
     "text": [
      "Epoch: 1 \tTraining Loss: 0.434416\n",
      "Epoch: 2 \tTraining Loss: 0.423516\n",
      "Epoch: 3 \tTraining Loss: 0.415005\n",
      "Epoch: 4 \tTraining Loss: 0.406891\n",
      "Epoch: 5 \tTraining Loss: 0.400051\n",
      "Epoch: 6 \tTraining Loss: 0.393506\n",
      "Epoch: 7 \tTraining Loss: 0.387285\n",
      "Epoch: 8 \tTraining Loss: 0.381501\n",
      "Epoch: 9 \tTraining Loss: 0.376349\n",
      "Epoch: 10 \tTraining Loss: 0.371185\n",
      "Epoch: 11 \tTraining Loss: 0.366373\n",
      "Epoch: 12 \tTraining Loss: 0.361872\n",
      "Epoch: 13 \tTraining Loss: 0.357514\n",
      "Epoch: 14 \tTraining Loss: 0.353524\n",
      "Epoch: 15 \tTraining Loss: 0.349430\n",
      "Epoch: 16 \tTraining Loss: 0.345441\n",
      "Epoch: 17 \tTraining Loss: 0.341958\n",
      "Epoch: 18 \tTraining Loss: 0.338139\n",
      "Epoch: 19 \tTraining Loss: 0.335003\n",
      "Epoch: 20 \tTraining Loss: 0.331691\n",
      "Epoch: 21 \tTraining Loss: 0.328600\n",
      "Epoch: 22 \tTraining Loss: 0.325429\n",
      "Epoch: 23 \tTraining Loss: 0.322524\n",
      "Epoch: 24 \tTraining Loss: 0.319581\n",
      "Epoch: 25 \tTraining Loss: 0.316815\n",
      "Epoch: 26 \tTraining Loss: 0.314306\n",
      "Epoch: 27 \tTraining Loss: 0.311736\n",
      "Epoch: 28 \tTraining Loss: 0.308828\n",
      "Epoch: 29 \tTraining Loss: 0.306278\n",
      "Epoch: 30 \tTraining Loss: 0.304006\n",
      "Test Loss: 0.350506\n",
      "\n",
      "Test Accuracy of     0: 96% (192/200)\n",
      "Test Accuracy of     1: 98% (196/200)\n",
      "Test Accuracy of     2: 86% (173/200)\n",
      "Test Accuracy of     3: 86% (173/200)\n",
      "Test Accuracy of     4: 91% (183/200)\n",
      "Test Accuracy of     5: 80% (161/200)\n",
      "Test Accuracy of     6: 95% (191/200)\n",
      "Test Accuracy of     7: 92% (184/200)\n",
      "Test Accuracy of     8: 88% (177/200)\n",
      "Test Accuracy of     9: 91% (183/200)\n",
      "\n",
      "Test Accuracy (Overall): 90% (1813/2000)\n"
     ]
    },
    {
     "data": {
      "image/png": "[encoded data removed]",
      "text/plain": [
       "<Figure size 2500x400 with 20 Axes>"
      ]
     },
     "metadata": {},
     "output_type": "display_data"
    }
   ],
   "source": [
    "# prepare datasets\n",
    "train_dataset = CustomTrainImageDataset(config=1)\n",
    "test_dateset = CustomTestImageDataset(config=1)\n",
    "\n",
    "# prepare data loaders\n",
    "train_dataloader = DataLoader(train_dataset, batch_size=BATCH_SIZE, shuffle=True)\n",
    "test_dataloader = DataLoader(test_dateset, batch_size=BATCH_SIZE, shuffle=True)\n",
    "\n",
    "train(train_dataloader)\n",
    "eval(test_dataloader)\n",
    "visualize_results(test_dataloader)"
   ]
  }
 ],
 "metadata": {
  "anaconda-cloud": {},
  "kernelspec": {
   "display_name": ".venv",
   "language": "python",
   "name": "python3"
  },
  "language_info": {
   "codemirror_mode": {
    "name": "ipython",
    "version": 3
   },
   "file_extension": ".py",
   "mimetype": "text/x-python",
   "name": "python",
   "nbconvert_exporter": "python",
   "pygments_lexer": "ipython3",
   "version": "3.12.7"
  }
 },
 "nbformat": 4,
 "nbformat_minor": 2
}
